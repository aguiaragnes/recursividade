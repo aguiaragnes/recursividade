{
  "nbformat": 4,
  "nbformat_minor": 0,
  "metadata": {
    "colab": {
      "provenance": [],
      "toc_visible": true,
      "authorship_tag": "ABX9TyN5hlrhqbAOPqZKYL+Zopw0",
      "include_colab_link": true
    },
    "kernelspec": {
      "name": "python3",
      "display_name": "Python 3"
    },
    "language_info": {
      "name": "python"
    }
  },
  "cells": [
    {
      "cell_type": "markdown",
      "metadata": {
        "id": "view-in-github",
        "colab_type": "text"
      },
      "source": [
        "<a href=\"https://colab.research.google.com/github/aguiaragnes/recursividade/blob/main/RECURSIVIDADE.ipynb\" target=\"_parent\"><img src=\"https://colab.research.google.com/assets/colab-badge.svg\" alt=\"Open In Colab\"/></a>"
      ]
    },
    {
      "cell_type": "markdown",
      "source": [
        "# RECURSIVIDADE"
      ],
      "metadata": {
        "id": "40o-kaNfzPn-"
      }
    },
    {
      "cell_type": "markdown",
      "source": [
        "- Exemplo 1"
      ],
      "metadata": {
        "id": "DuUDIxvDzSMo"
      }
    },
    {
      "cell_type": "code",
      "source": [
        "def imprimir_num_recursivo(num):\n",
        "    if num < 5:\n",
        "        print(num)\n",
        "        imprimir_num_recursivo(num + 1)\n",
        "\n",
        "imprimir_num_recursivo(0)"
      ],
      "metadata": {
        "colab": {
          "base_uri": "https://localhost:8080/"
        },
        "id": "cCR7Miz_zxNv",
        "outputId": "f54cda64-a145-48c6-ca25-4364251c5bb0"
      },
      "execution_count": 3,
      "outputs": [
        {
          "output_type": "stream",
          "name": "stdout",
          "text": [
            "0\n",
            "1\n",
            "2\n",
            "3\n",
            "4\n"
          ]
        }
      ]
    },
    {
      "cell_type": "markdown",
      "source": [
        "- Exemplo 1.1"
      ],
      "metadata": {
        "id": "DgpyrooX0Sno"
      }
    },
    {
      "cell_type": "code",
      "source": [
        "def imprimir_num_recursivo(num):\n",
        "    if num < 5:\n",
        "        imprimir_num_recursivo(num + 1)\n",
        "        print(num)\n",
        "\n",
        "imprimir_num_recursivo(0)"
      ],
      "metadata": {
        "colab": {
          "base_uri": "https://localhost:8080/"
        },
        "id": "b8ZCkPJu0U6m",
        "outputId": "8a337c5d-e630-4557-cb30-03f1cb6d7ef1"
      },
      "execution_count": 4,
      "outputs": [
        {
          "output_type": "stream",
          "name": "stdout",
          "text": [
            "4\n",
            "3\n",
            "2\n",
            "1\n",
            "0\n"
          ]
        }
      ]
    }
  ]
}