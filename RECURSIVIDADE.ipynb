{
  "cells": [
    {
      "cell_type": "markdown",
      "metadata": {
        "colab_type": "text",
        "id": "view-in-github"
      },
      "source": [
        "<a href=\"https://colab.research.google.com/github/aguiaragnes/recursividade/blob/main/RECURSIVIDADE.ipynb\" target=\"_parent\"><img src=\"https://colab.research.google.com/assets/colab-badge.svg\" alt=\"Open In Colab\"/></a>"
      ]
    },
    {
      "cell_type": "code",
      "execution_count": null,
      "metadata": {},
      "outputs": [],
      "source": []
    },
    {
      "cell_type": "markdown",
      "metadata": {
        "id": "40o-kaNfzPn-"
      },
      "source": [
        "# RECURSIVIDADE"
      ]
    },
    {
      "cell_type": "markdown",
      "metadata": {
        "id": "DuUDIxvDzSMo"
      },
      "source": [
        "- Exemplo 1"
      ]
    },
    {
      "cell_type": "code",
      "execution_count": 3,
      "metadata": {
        "colab": {
          "base_uri": "https://localhost:8080/"
        },
        "id": "cCR7Miz_zxNv",
        "outputId": "f54cda64-a145-48c6-ca25-4364251c5bb0"
      },
      "outputs": [
        {
          "name": "stdout",
          "output_type": "stream",
          "text": [
            "0\n",
            "1\n",
            "2\n",
            "3\n",
            "4\n"
          ]
        }
      ],
      "source": [
        "def imprimir_num_recursivo(num):\n",
        "    if num < 5:\n",
        "        print(num)\n",
        "        imprimir_num_recursivo(num + 1)\n",
        "\n",
        "imprimir_num_recursivo(0)"
      ]
    },
    {
      "cell_type": "markdown",
      "metadata": {
        "id": "DgpyrooX0Sno"
      },
      "source": [
        "- Exemplo 1.1"
      ]
    },
    {
      "cell_type": "code",
      "execution_count": 4,
      "metadata": {
        "colab": {
          "base_uri": "https://localhost:8080/"
        },
        "id": "b8ZCkPJu0U6m",
        "outputId": "8a337c5d-e630-4557-cb30-03f1cb6d7ef1"
      },
      "outputs": [
        {
          "name": "stdout",
          "output_type": "stream",
          "text": [
            "4\n",
            "3\n",
            "2\n",
            "1\n",
            "0\n"
          ]
        }
      ],
      "source": [
        "def imprimir_num_recursivo(num):\n",
        "    if num < 5:\n",
        "        imprimir_num_recursivo(num + 1)\n",
        "        print(num)\n",
        "\n",
        "imprimir_num_recursivo(0)"
      ]
    }
  ],
  "metadata": {
    "colab": {
      "authorship_tag": "ABX9TyN5hlrhqbAOPqZKYL+Zopw0",
      "include_colab_link": true,
      "provenance": [],
      "toc_visible": true
    },
    "kernelspec": {
      "display_name": "Python 3",
      "name": "python3"
    },
    "language_info": {
      "name": "python"
    }
  },
  "nbformat": 4,
  "nbformat_minor": 0
}
